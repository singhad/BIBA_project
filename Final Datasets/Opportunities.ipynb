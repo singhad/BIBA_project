{
 "cells": [
  {
   "cell_type": "code",
   "execution_count": 1,
   "metadata": {},
   "outputs": [],
   "source": [
    "import numpy as np\n",
    "import pandas as pd\n",
    "from random import randint\n",
    "from datetime import timedelta\n",
    "from datetime import datetime\n",
    "from random import uniform"
   ]
  },
  {
   "cell_type": "markdown",
   "metadata": {},
   "source": [
    "## Opportunity Table"
   ]
  },
  {
   "cell_type": "code",
   "execution_count": 10,
   "metadata": {},
   "outputs": [],
   "source": [
    "Opp = pd.read_csv(r\"C:\\Users\\vikas\\OneDrive\\Desktop\\NCI Studies\\Business Intelligence and Business Analytics\\Project\\Mockaroo Files\\Opportunities VH.csv\")\n",
    "Leads = pd.read_csv(r\"C:\\Users\\vikas\\OneDrive\\Desktop\\NCI Studies\\Business Intelligence and Business Analytics\\Project\\Mockaroo Files\\Leads VH.csv\")"
   ]
  },
  {
   "cell_type": "code",
   "execution_count": 11,
   "metadata": {},
   "outputs": [],
   "source": [
    "#Actual Close Date in Opportunity should be after 15-30 days of 'Created On' date of Leads.\n",
    "\n",
    "Leads['Created On'] = pd.to_datetime(Leads['Created On'])\n",
    "\n",
    "Opp['Actual Close Date'] = Leads['Created On'].map(lambda a: a + pd.DateOffset(days=randint(15,30), hours=randint(0,12), minutes=randint(0,60), seconds=randint(0,60)))"
   ]
  },
  {
   "cell_type": "code",
   "execution_count": 12,
   "metadata": {},
   "outputs": [],
   "source": [
    "#Actual Revenue: Multiple of Price product and Price Quantity\n",
    "\n",
    "Mark1 = 50\n",
    "Mark5 = 100\n",
    "Mark10 = 250\n",
    "Mark50 = 500\n",
    "Jarvis1T = 1000\n",
    "Jarvis5T = 2000\n",
    "\n",
    "ControllerBoard = 30\n",
    "Filament = 22\n",
    "Frame = 250\n",
    "Belts = 7\n",
    "PrintBed = 10\n",
    "Software = 10\n",
    "\n",
    "Opp['Actual Revenue'] = Opp['Actual Revenue'].map(lambda a: (Mark1*randint(0,5))+(Mark5*randint(0,5))+(Mark10*randint(0,5))+(Mark50*randint(0,5))+(Jarvis1T*randint(0,2))+(Jarvis5T*randint(0,2))+(ControllerBoard*randint(0,5))+(Filament*randint(0,5))+(Frame*randint(0,5))+(Belts*randint(0,5))+(PrintBed*randint(0,5))+(Software*randint(0,5)))"
   ]
  },
  {
   "cell_type": "code",
   "execution_count": 13,
   "metadata": {},
   "outputs": [],
   "source": [
    "#Est. Close Date: -30 to 15 days of Actual Close Date\n",
    "\n",
    "Opp['Est. Close Date'] = Opp['Actual Close Date'].map(lambda a: a + pd.DateOffset(days=randint(-30,15), hours=randint(0,12), minutes=randint(0,60), seconds=randint(0,60)))"
   ]
  },
  {
   "cell_type": "code",
   "execution_count": 14,
   "metadata": {},
   "outputs": [],
   "source": [
    "# Estimated Revenue: 0.75 to 1.5 times Actual Revenue\n",
    "# Need to think about this value\n",
    "\n",
    "Opp['Est. Revenue'] = Opp['Actual Revenue'].map(lambda a: int(a*uniform(0.75, 1.5)))\n",
    "\n"
   ]
  },
  {
   "cell_type": "code",
   "execution_count": 19,
   "metadata": {},
   "outputs": [],
   "source": [
    "#Rating:   Status Won => Hot\n",
    "#          Status Open => 50% Hot, 25% Warm, 25% Cold          \n",
    "#          Status Lost => Cold\n",
    "\n",
    "\n",
    "Opp['Rating'] = Opp['Status'].map(lambda a: 'Hot' if str(a)=='Won' else \"\")\n",
    "Opp['Rating'] = Opp['Status'].map(lambda a: 'Cold' if str(a)=='Lost' else \"\")\n",
    "#Need to implement logic for Open"
   ]
  },
  {
   "cell_type": "code",
   "execution_count": 8,
   "metadata": {},
   "outputs": [],
   "source": [
    "#Probability: Won 80-95\n",
    "#            Open and Hot 50-80\n",
    "#            Open and Warm 30-45\n",
    "#            Open and Cold 10-25\n",
    "\n",
    "prob = [95,90,85,80,75,70,65,60,55,50,45,40,35,30,25,20,15,10,5,0]\n",
    "        \n",
    "def ProbImpute(Status, Rating):\n",
    "    if Status=='Won':\n",
    "        return prob[randint(0,3)]\n",
    "    elif Status=='Open' and Rating=='Hot':\n",
    "        return prob[randint(4,9)]\n",
    "    elif Status=='Open' and Rating=='Warm':\n",
    "        return prob[randint(10,13)]\n",
    "    elif Status=='Open' and Rating=='Cold':\n",
    "        return prob[randint(14,17)]\n",
    "    else:\n",
    "        return prob[randint(18,19)]\n",
    "        \n",
    "Opp['Probability'] = Opp.apply(lambda a: ProbImpute(a['Status'],a['Rating']),axis=1)"
   ]
  },
  {
   "cell_type": "code",
   "execution_count": 9,
   "metadata": {},
   "outputs": [],
   "source": [
    "Opp.to_csv(r\"C:\\Users\\vikas\\OneDrive\\Desktop\\NCI Studies\\Business Intelligence and Business Analytics\\Project\\Python Modified Data\\Opportunity1.csv\")"
   ]
  },
  {
   "cell_type": "markdown",
   "metadata": {},
   "source": [
    "## Quote Table"
   ]
  },
  {
   "cell_type": "code",
   "execution_count": 664,
   "metadata": {},
   "outputs": [],
   "source": [
    "Quo = pd.read_csv(r\"C:\\Users\\vikas\\OneDrive\\Desktop\\NCI Studies\\Business Intelligence and Business Analytics\\Project\\Mockaroo Files\\Quote VH.csv\")"
   ]
  },
  {
   "cell_type": "code",
   "execution_count": 668,
   "metadata": {},
   "outputs": [],
   "source": [
    "# Random Min 10 days after the actual close date of Opportunity table.\n",
    "\n",
    "Quo['Created On'] = Opp['Actual Close Date'].map(lambda a: a + pd.DateOffset(days=randint(10,25), hours=randint(0,12), minutes=randint(0,60), seconds=randint(0,60)))"
   ]
  },
  {
   "cell_type": "code",
   "execution_count": 670,
   "metadata": {},
   "outputs": [],
   "source": [
    "Quo.to_csv(r\"C:\\Users\\vikas\\OneDrive\\Desktop\\NCI Studies\\Business Intelligence and Business Analytics\\Project\\Python Modified Data\\Quote.csv\")"
   ]
  },
  {
   "cell_type": "code",
   "execution_count": null,
   "metadata": {},
   "outputs": [],
   "source": []
  }
 ],
 "metadata": {
  "kernelspec": {
   "display_name": "Python 3",
   "language": "python",
   "name": "python3"
  },
  "language_info": {
   "codemirror_mode": {
    "name": "ipython",
    "version": 3
   },
   "file_extension": ".py",
   "mimetype": "text/x-python",
   "name": "python",
   "nbconvert_exporter": "python",
   "pygments_lexer": "ipython3",
   "version": "3.7.4"
  }
 },
 "nbformat": 4,
 "nbformat_minor": 2
}
